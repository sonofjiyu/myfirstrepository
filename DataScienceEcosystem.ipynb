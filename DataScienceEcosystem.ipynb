{
 "cells": [
  {
   "cell_type": "markdown",
   "id": "8798883f-9ec3-4e6e-8fb0-8ae10a8ab0d4",
   "metadata": {},
   "source": [
    "# Data Science Tools and Ecosystem"
   ]
  },
  {
   "cell_type": "markdown",
   "id": "d527128d-4362-43e6-a9a1-c006d66813f8",
   "metadata": {},
   "source": [
    "This notebook summarizes Data Science Tools and the Ecosystem."
   ]
  },
  {
   "cell_type": "markdown",
   "id": "19db73b2-0753-43ca-a468-ad903efab5b9",
   "metadata": {},
   "source": [
    "Commonly used programming languages used by Data Scientists are:\n",
    "\n",
    "1. R\n",
    "2. Python\n",
    "3. SQL\n",
    "4. Scala\n",
    "5. JavaScript\n",
    "6. Julia"
   ]
  },
  {
   "cell_type": "markdown",
   "id": "be1a22c2-37e4-4547-b945-5a68d817076d",
   "metadata": {
    "tags": []
   },
   "source": [
    "Popular Libraries used in Data Science are:\n",
    "    \n",
    "    1. matplotlib\n",
    "    2. TensorFlow\n",
    "    3. NumPy\n",
    "    "
   ]
  },
  {
   "cell_type": "markdown",
   "id": "faba9392-cc41-45a7-af16-47d87c58fb64",
   "metadata": {},
   "source": [
    "| Data Science Tools |\n",
    "|----|\n",
    "|Jupyter Notebooks|\n",
    "|R Studio|\n",
    "|GitHub|\n",
    "\n"
   ]
  },
  {
   "cell_type": "markdown",
   "id": "6ec5cb57-176e-4c2c-a55a-ad354fd0e97b",
   "metadata": {},
   "source": [
    "### Below we showcase examples of evaluating arithmetic expressions in python."
   ]
  },
  {
   "cell_type": "code",
   "execution_count": 11,
   "id": "6e64a7bc-8bd7-4c7a-bca9-5e9390ff5059",
   "metadata": {
    "tags": []
   },
   "outputs": [
    {
     "data": {
      "text/plain": [
       "17"
      ]
     },
     "execution_count": 11,
     "metadata": {},
     "output_type": "execute_result"
    }
   ],
   "source": [
    "# This is a simple order of operations expression. \n",
    "(3*4)+5"
   ]
  },
  {
   "cell_type": "code",
   "execution_count": 20,
   "id": "34de2523-a45b-4f3c-a09d-9120f6a72ede",
   "metadata": {
    "tags": []
   },
   "outputs": [
    {
     "data": {
      "text/plain": [
       "3.3333333333333335"
      ]
     },
     "execution_count": 20,
     "metadata": {},
     "output_type": "execute_result"
    }
   ],
   "source": [
    "# This expression converts 200 minutes to hours.\n",
    "\n",
    "200/60\n"
   ]
  },
  {
   "cell_type": "markdown",
   "id": "04d2bf53-45a0-4b02-8992-4accdf1d64fb",
   "metadata": {},
   "source": [
    "**Objectives**\n",
    "* Familiarize yourself with markdown cells in Jupyter notebooks. \n",
    "* Learn to evaluate simple arithmetic expressions using code cells.\n",
    "* Create a public repository on GitHub for further projects. "
   ]
  },
  {
   "cell_type": "markdown",
   "id": "ddbf2c19-60f6-44b3-a5ba-e3d398543ddf",
   "metadata": {
    "tags": []
   },
   "source": [
    "## Author\n",
    "Ryan Kamiya"
   ]
  },
  {
   "cell_type": "code",
   "execution_count": null,
   "id": "c97cf011-89ef-4669-a14e-10d82cdb1e77",
   "metadata": {},
   "outputs": [],
   "source": []
  }
 ],
 "metadata": {
  "kernelspec": {
   "display_name": "Python",
   "language": "python",
   "name": "conda-env-python-py"
  },
  "language_info": {
   "codemirror_mode": {
    "name": "ipython",
    "version": 3
   },
   "file_extension": ".py",
   "mimetype": "text/x-python",
   "name": "python",
   "nbconvert_exporter": "python",
   "pygments_lexer": "ipython3",
   "version": "3.7.12"
  }
 },
 "nbformat": 4,
 "nbformat_minor": 5
}
